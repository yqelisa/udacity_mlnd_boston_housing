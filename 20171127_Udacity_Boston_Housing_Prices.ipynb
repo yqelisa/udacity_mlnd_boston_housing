{
 "cells": [
  {
   "cell_type": "markdown",
   "metadata": {},
   "source": [
    "# Environment Setup #"
   ]
  },
  {
   "cell_type": "code",
   "execution_count": 1,
   "metadata": {},
   "outputs": [
    {
     "name": "stderr",
     "output_type": "stream",
     "text": [
      "D:\\Anaconda\\Anaconda3\\envs\\py35\\lib\\site-packages\\sklearn\\cross_validation.py:44: DeprecationWarning: This module was deprecated in version 0.18 in favor of the model_selection module into which all the refactored classes and functions are moved. Also note that the interface of the new CV iterators are different from that of this module. This module will be removed in 0.20.\n",
      "  \"This module will be removed in 0.20.\", DeprecationWarning)\n",
      "D:\\Anaconda\\Anaconda3\\envs\\py35\\lib\\site-packages\\sklearn\\learning_curve.py:23: DeprecationWarning: This module was deprecated in version 0.18 in favor of the model_selection module into which all the functions are moved. This module will be removed in 0.20\n",
      "  DeprecationWarning)\n"
     ]
    }
   ],
   "source": [
    "# Import libraries\n",
    "\n",
    "import pandas as pd\n",
    "import numpy as np\n",
    "from sklearn.cross_validation import ShuffleSplit, train_test_split\n",
    "from sklearn.tree import DecisionTreeRegressor\n",
    "\n",
    "# Visualization libraries\n",
    "import matplotlib.pyplot as plt\n",
    "import sklearn.learning_curve as curves\n",
    "\n",
    "# Pretty display for the Notebook\n",
    "%matplotlib inline"
   ]
  },
  {
   "cell_type": "code",
   "execution_count": 2,
   "metadata": {
    "collapsed": true
   },
   "outputs": [],
   "source": [
    "# Define visualization functions - Learning Curve\n",
    "\n",
    "def ModelLearning(X, y):\n",
    "    \"\"\" Calculate the performance of several models with varying sizes of training data. \n",
    "        The learning and testing scores for each model are then plotted. \"\"\"\n",
    "    \n",
    "    # Create 10 cross-validation sets for training and testing\n",
    "    cv = ShuffleSplit(X.shape[0], n_iter=10, test_size=0.2, random_state=0)\n",
    "    \n",
    "    # Generate the training set sizes increasing by 50\n",
    "    train_sizes = np.rint(np.linspace(1, X.shape[0]*0.8-1, 9)).astype(int)\n",
    "    \n",
    "    # Create the figure window:    \n",
    "    fig = plt.figure(figsize=(10,7))\n",
    "    \n",
    "    # Create three different models based on max_depth\n",
    "    for k, depth in enumerate([1,3,6,10]):\n",
    "        \n",
    "        # Create a Decision Tree Regressor at max_depth=depth\n",
    "        regressor = DecisionTreeRegressor(max_depth=depth)\n",
    "        \n",
    "        # Calculate the training and testing scores\n",
    "        sizes, train_scores, test_scores = curves.learning_curve(regressor, X, y, cv=cv, train_sizes=train_sizes, scoring='r2')\n",
    "        \n",
    "        # Find the mean and standard deviation for smoothing\n",
    "        train_std = np.std(train_scores, axis=1)\n",
    "        train_mean = np.mean(train_scores, axis=1)\n",
    "        test_std = np.std(test_scores, axis=1)\n",
    "        test_mean = np.mean(test_scores, axis=1)\n",
    "        \n",
    "        # Subplot the learning curve\n",
    "        ax = fig.add_subplot(2, 2, k+1) # k starts from 0\n",
    "        ax.plot(sizes, train_mean, 'o-', color='r', label='Training Score')\n",
    "        ax.plot(sizes, test_mean, 'o-', color='g', label='Testing Score')\n",
    "        ax.fill_between(sizes, train_mean-train_std, train_mean+train_std, alpha=0.15, color='r')\n",
    "        ax.fill_between(sizes, test_mean-test_std, test_mean+test_std, alpha=0.15, color='g')\n",
    "        \n",
    "        # Labels\n",
    "        ax.set_title('max_depth = %s'%(depth))\n",
    "        ax.set_xlabel('Number of Training Points')\n",
    "        ax.set_ylabel('Score')\n",
    "        ax.set_xlim([0, X.shape[0]*0.8])\n",
    "        ax.set_ylim([-0.05, 1.05])\n",
    "        \n",
    "    # Visual aesthetics\n",
    "    ax.legend(bbox_to_anchor=(1.05, 2.05), loc='lower left', borderaxespad=0.)\n",
    "    fig.suptitle('Decision Tree Regressor Learning Performances', fontsize=16, y=1.03)\n",
    "    fig.tight_layout()\n",
    "    fig.show()"
   ]
  },
  {
   "cell_type": "code",
   "execution_count": 3,
   "metadata": {
    "collapsed": true
   },
   "outputs": [],
   "source": [
    "# Define visualization functions - Model Complexity\n",
    "\n",
    "def ModelComplexity(X, y):\n",
    "    \"\"\"Calculates the performance of the model as model complexity increases.\n",
    "        The learning and testing errors rates are then plotted. \"\"\"\n",
    "    \n",
    "    # Create 10 cross-validation sets for training and testing\n",
    "    cv = ShuffleSplit(X.shape[0], n_iter=10, test_size=0.2, random_state=0)\n",
    "    \n",
    "    # Vary the max_depth parameter from 1 to 10\n",
    "    max_depth = np.arange(1,11)\n",
    "    \n",
    "    # Calculate the training and testing scores\n",
    "    train_scores, test_scores = curves.validation_curve(DecisionTreeRegressor(), X, y, param_name=\"max_depth\",\n",
    "                                                       param_range=max_depth, cv=cv, scoring='r2')\n",
    "    \n",
    "    # Find the mean and standard deviation for smoothing\n",
    "    train_mean = np.mean(train_scores, axis=1)\n",
    "    train_std = np.std(train_scores, axis=1)\n",
    "    test_mean = np.mean(test_scores, axis=1)\n",
    "    test_std = np.std(test_scores, axis=1)\n",
    "    \n",
    "    # Plot the validation curve\n",
    "    plt.figure(figsize=(7, 5))\n",
    "    plt.title('Decision Tree Regressor Complexity Performance')\n",
    "    plt.plot(max_depth, train_mean, 'o-', color='r', label='Training Score')\n",
    "    plt.plot(max_depth, test_mean, 'o-', color='g', label='Validation Score')\n",
    "    plt.fill_between(max_depth, train_mean-train_std, train_mean+train_std, alpha=0.15, color='r')\n",
    "    plt.fill_between(max_depth, test_mean-test_std, test_mean+test_std, alpha=0.15, color='g')\n",
    "    \n",
    "    # Visual aesthetics\n",
    "    plt.legend(loc='lower right')\n",
    "    plt.xlabel('Maximum Depth')\n",
    "    plt.ylabel('Score')\n",
    "    plt.ylim([-0.05, 1.05])\n",
    "    plt.show()"
   ]
  },
  {
   "cell_type": "code",
   "execution_count": 4,
   "metadata": {
    "collapsed": true
   },
   "outputs": [],
   "source": [
    "# Define visualization functions - Prediction Performance\n",
    "\n",
    "def PredictTrials(X, y, fitter, data):\n",
    "    \"\"\" Performs trials of fitting and predicting data. \"\"\"\n",
    "    \n",
    "    # Store the predicted prices\n",
    "    prices = []\n",
    "    \n",
    "    for k in range(10):\n",
    "        # Split the data\n",
    "        X_train, X_test, y_train, y_test = train_test_split(X, y, test_size=0.2, random_state=k)\n",
    "        \n",
    "        # Fit the data:\n",
    "        reg = fitter(X_train, y_train)\n",
    "        \n",
    "        # Make a prediction \n",
    "        pred = reg.predict([data[0]])[0]\n",
    "        prices.append(pred)\n",
    "        \n",
    "        # Result\n",
    "        print(\"Trial {}: ${:,.2f}\".format(k+1, pred))\n",
    "        \n",
    "    # Display price range\n",
    "    print(\"\\nRange in prices: ${:,.2f}\".format(max(prices)-min(prices)))"
   ]
  },
  {
   "cell_type": "code",
   "execution_count": 5,
   "metadata": {
    "collapsed": true
   },
   "outputs": [],
   "source": [
    "# Change working directory\n",
    "\n",
    "import os\n",
    "os.chdir('F:/Data_Analytics/Udacity_ML_Engr')"
   ]
  },
  {
   "cell_type": "markdown",
   "metadata": {},
   "source": [
    "# Data Exploration #"
   ]
  },
  {
   "cell_type": "code",
   "execution_count": 6,
   "metadata": {
    "collapsed": true
   },
   "outputs": [],
   "source": [
    "# Load the Boston Housing\n",
    "\n",
    "data = pd.read_csv('housing.csv')\n",
    "prices = data['MEDV']\n",
    "features = data.drop('MEDV', axis=1)"
   ]
  },
  {
   "cell_type": "code",
   "execution_count": 19,
   "metadata": {},
   "outputs": [
    {
     "data": {
      "text/html": [
       "<div>\n",
       "<style>\n",
       "    .dataframe thead tr:only-child th {\n",
       "        text-align: right;\n",
       "    }\n",
       "\n",
       "    .dataframe thead th {\n",
       "        text-align: left;\n",
       "    }\n",
       "\n",
       "    .dataframe tbody tr th {\n",
       "        vertical-align: top;\n",
       "    }\n",
       "</style>\n",
       "<table border=\"1\" class=\"dataframe\">\n",
       "  <thead>\n",
       "    <tr style=\"text-align: right;\">\n",
       "      <th></th>\n",
       "      <th>RM</th>\n",
       "      <th>LSTAT</th>\n",
       "      <th>PTRATIO</th>\n",
       "      <th>MEDV</th>\n",
       "    </tr>\n",
       "  </thead>\n",
       "  <tbody>\n",
       "    <tr>\n",
       "      <th>0</th>\n",
       "      <td>6.575</td>\n",
       "      <td>4.98</td>\n",
       "      <td>15.3</td>\n",
       "      <td>504000.0</td>\n",
       "    </tr>\n",
       "    <tr>\n",
       "      <th>1</th>\n",
       "      <td>6.421</td>\n",
       "      <td>9.14</td>\n",
       "      <td>17.8</td>\n",
       "      <td>453600.0</td>\n",
       "    </tr>\n",
       "    <tr>\n",
       "      <th>2</th>\n",
       "      <td>7.185</td>\n",
       "      <td>4.03</td>\n",
       "      <td>17.8</td>\n",
       "      <td>728700.0</td>\n",
       "    </tr>\n",
       "    <tr>\n",
       "      <th>3</th>\n",
       "      <td>6.998</td>\n",
       "      <td>2.94</td>\n",
       "      <td>18.7</td>\n",
       "      <td>701400.0</td>\n",
       "    </tr>\n",
       "    <tr>\n",
       "      <th>4</th>\n",
       "      <td>7.147</td>\n",
       "      <td>5.33</td>\n",
       "      <td>18.7</td>\n",
       "      <td>760200.0</td>\n",
       "    </tr>\n",
       "  </tbody>\n",
       "</table>\n",
       "</div>"
      ],
      "text/plain": [
       "      RM  LSTAT  PTRATIO      MEDV\n",
       "0  6.575   4.98     15.3  504000.0\n",
       "1  6.421   9.14     17.8  453600.0\n",
       "2  7.185   4.03     17.8  728700.0\n",
       "3  6.998   2.94     18.7  701400.0\n",
       "4  7.147   5.33     18.7  760200.0"
      ]
     },
     "execution_count": 19,
     "metadata": {},
     "output_type": "execute_result"
    }
   ],
   "source": [
    "# Eye-balling the dataset\n",
    "data.head()"
   ]
  },
  {
   "cell_type": "code",
   "execution_count": 7,
   "metadata": {},
   "outputs": [
    {
     "name": "stdout",
     "output_type": "stream",
     "text": [
      "Boston housing dataset has 489 data points with 4 variables each.\n"
     ]
    }
   ],
   "source": [
    "# Dimension ofthe datset\n",
    "print(\"Boston housing dataset has {} data points with {} variables each.\".format(*data.shape))"
   ]
  },
  {
   "cell_type": "markdown",
   "metadata": {},
   "source": [
    "## Calculate Statistics ##"
   ]
  },
  {
   "cell_type": "code",
   "execution_count": 8,
   "metadata": {},
   "outputs": [
    {
     "name": "stdout",
     "output_type": "stream",
     "text": [
      "Statistics for Boston Housing dataset:\n",
      "\n",
      "Minimum price: $105,000.00\n",
      "Maximum price: $1,024,800.00\n",
      "Mean price: $454,342.94\n",
      "Median price: $438,900.00\n",
      "Standard deviation of prices: $165,340.28\n"
     ]
    }
   ],
   "source": [
    "# TODO: Minimum price off the data\n",
    "minimum_price = prices.min()\n",
    "\n",
    "# TODO: Maximum price of the data\n",
    "maximum_price = prices.max()\n",
    "\n",
    "#TODO: Mean price of the data\n",
    "mean_price = prices.mean()\n",
    "\n",
    "# TODO: Median price of the data\n",
    "median_price = prices.median()\n",
    "\n",
    "# TODO: Standard deviation of prices\n",
    "std_price = prices.std()\n",
    "\n",
    "# Show the calculated statistics\n",
    "print(\"Statistics for Boston Housing dataset:\\n\")\n",
    "print(\"Minimum price: ${:,.2f}\".format(minimum_price))\n",
    "print(\"Maximum price: ${:,.2f}\".format(maximum_price))\n",
    "print(\"Mean price: ${:,.2f}\".format(mean_price))\n",
    "print(\"Median price: ${:,.2f}\".format(median_price))\n",
    "print(\"Standard deviation of prices: ${:,.2f}\".format(std_price))"
   ]
  },
  {
   "cell_type": "markdown",
   "metadata": {},
   "source": [
    "** Question 1 - Feature Observation **\n",
    "  \n",
    "As a reminder, we are using three features from the Boston housing dataset: 'RM', 'LSTAT', and 'PTRATIO. Using your intuition, for each of the three features above, do you think that an increase in the value of that feature would lead to an increase in the value of 'MEDV' or a decrease in the value of 'MEDV'? Justify your answer for each."
   ]
  },
  {
   "cell_type": "code",
   "execution_count": 9,
   "metadata": {},
   "outputs": [
    {
     "data": {
      "image/png": "[encoded data removed]",
      "text/plain": [
       "<matplotlib.figure.Figure at 0x15768c2ec18>"
      ]
     },
     "metadata": {},
     "output_type": "display_data"
    }
   ],
   "source": [
    "# Use scatterplots to show the relationships\n",
    "\n",
    "fig, ax = plt.subplots(1,3,figsize=(18,5))\n",
    "\n",
    "ax[0].scatter(data['RM'], data['MEDV'])\n",
    "ax[0].set_title('RM')\n",
    "\n",
    "ax[1].scatter(data['LSTAT'], data['MEDV'])\n",
    "ax[1].set_title('LSTAT')\n",
    "\n",
    "ax[2].scatter(data['PTRATIO'], data['MEDV'])\n",
    "ax[2].set_title('PTRATIO')\n",
    "\n",
    "fig.text(0.04, 0.5, 'MEDV', va='center', rotation='vertical')\n",
    "plt.show()"
   ]
  },
  {
   "cell_type": "markdown",
   "metadata": {},
   "source": [
    "** Answer 1: **\n",
    "  \n",
    "1. The higher the 'RM' (number of rooms), the higher the 'MEDV' (home price). More rooms in the apartment, the larger the apartment, which naturally relate to higher price per apartment when other factors remain the same. \n",
    "\n",
    "2. The higher the 'LSTAT' (percentage of lower class workers), the lower the 'MEDV' (home price). On one hand, lower class workers tend to live in lower housing price neighborhood. On the other hand, buyers would be less willing to pay a high price for apartments when the neighborhood has higher percentage of lower class workers.\n",
    "\n",
    "3. The higher the 'PTRATIO' (ratio of students to teachers), the lower the 'MEDV' (home price). Higher the students-to-teachers ratio means less accessible to education resources. People are more willing to buy houses in neighborhood with good access to education.\n"
   ]
  },
  {
   "cell_type": "markdown",
   "metadata": {},
   "source": [
    "# Developing a Model #"
   ]
  },
  {
   "cell_type": "markdown",
   "metadata": {},
   "source": [
    "## Define a Performance Metric ##"
   ]
  },
  {
   "cell_type": "code",
   "execution_count": 10,
   "metadata": {
    "collapsed": true
   },
   "outputs": [],
   "source": [
    "# TODO: Import 'r2_score'\n",
    "from sklearn.metrics import r2_score\n",
    "\n",
    "def performance_metric(y_true, y_predict):\n",
    "    \"\"\" Calculates and returns the performance score betwen true and predicted values based on the metric chosen. \"\"\"\n",
    "    \n",
    "    # TODO: Calculate the performance score between 'y_true' and 'y_predict'\n",
    "    score = r2_score(y_true, y_predict)\n",
    "    \n",
    "    # Return the score\n",
    "    return score\n",
    "    "
   ]
  },
  {
   "cell_type": "markdown",
   "metadata": {},
   "source": [
    "** Question 2 - Goodness of Fit **\n",
    "  \n",
    "Run the code cell below to use the performance_metric() function and calculate this model's coefficient of determination.\n",
    "\n",
    "1. Would you consider this model to have successfully captured the variation of the target variable?\n",
    "2. Why or why not?"
   ]
  },
  {
   "cell_type": "code",
   "execution_count": 11,
   "metadata": {},
   "outputs": [
    {
     "name": "stdout",
     "output_type": "stream",
     "text": [
      "Model has a coefficient of determination, R^2, of 0.923.\n"
     ]
    }
   ],
   "source": [
    "# Calculate the performance of this model\n",
    "\n",
    "score = performance_metric([3, -0.5, 2, 7, 4.2], [2.5, 0.0, 2.1, 7.8, 5.3])\n",
    "print(\"Model has a coefficient of determination, R^2, of {:,.3f}.\".format(score))"
   ]
  },
  {
   "cell_type": "markdown",
   "metadata": {},
   "source": [
    "** Answer 2: **\n",
    "\n",
    "1. This model have successfully captured the variation of the target variable.\n",
    "2. Because it has a R2 score of 0.923, which is very close to 1, meaning 92.3% of the variance in response variable is able to be captured by predictors using this model."
   ]
  },
  {
   "cell_type": "markdown",
   "metadata": {},
   "source": [
    "## Shuffle and Split Data ##"
   ]
  },
  {
   "cell_type": "code",
   "execution_count": 12,
   "metadata": {},
   "outputs": [
    {
     "name": "stdout",
     "output_type": "stream",
     "text": [
      "Training and testing split was successful.\n",
      "There are 391 observations in the training set, 98 observations in the testing set.\n"
     ]
    }
   ],
   "source": [
    "# TODO: Import 'train_test_split'\n",
    "from sklearn.model_selection import train_test_split\n",
    "\n",
    "# TODO: Shuffle and split the data into training and testing subsets\n",
    "X_train, X_test, y_train, y_test = train_test_split(features, prices, test_size=0.2, random_state=0)\n",
    "\n",
    "# Check result\n",
    "print(\"Training and testing split was successful.\\n\" \n",
    "      \"There are {} observations in the training set, {} observations in the testing set.\".format(X_train.shape[0],len(X_test)))"
   ]
  },
  {
   "cell_type": "markdown",
   "metadata": {},
   "source": [
    "** Question 3 - Training and Testing **\n",
    "\n",
    "What is the benefit to splitting a dataset into some ratio of training and testing subsets for a learning algorithm?"
   ]
  },
  {
   "cell_type": "markdown",
   "metadata": {},
   "source": [
    "** Answer 3: **\n",
    "\n",
    "Testing subset can check if the learning algorithm has underfitted or overfitted the training set, which is a subset of the whole dataset. Since the training set is sampled randomly, it should be able to able to reflect if the learning algorithm can be scaled to larger sets of data."
   ]
  },
  {
   "cell_type": "markdown",
   "metadata": {},
   "source": [
    "# Analyzing Model Performance #"
   ]
  },
  {
   "cell_type": "markdown",
   "metadata": {},
   "source": [
    "## Learning Curves ##\n",
    "\n",
    "Run the code cell below and use these graphs to answer the following question."
   ]
  },
  {
   "cell_type": "code",
   "execution_count": 13,
   "metadata": {},
   "outputs": [
    {
     "name": "stderr",
     "output_type": "stream",
     "text": [
      "D:\\Anaconda\\Anaconda3\\envs\\py35\\lib\\site-packages\\matplotlib\\figure.py:402: UserWarning: matplotlib is currently using a non-GUI backend, so cannot show the figure\n",
      "  \"matplotlib is currently using a non-GUI backend, \"\n"
     ]
    },
    {
     "data": {
      "image/png": "[encoded data removed]",
      "text/plain": [
       "<matplotlib.figure.Figure at 0x15768c3af60>"
      ]
     },
     "metadata": {},
     "output_type": "display_data"
    }
   ],
   "source": [
    "# Produce learning curves for varying training set sizes and maximum depths\n",
    "ModelLearning(features, prices)"
   ]
  },
  {
   "cell_type": "markdown",
   "metadata": {},
   "source": [
    "** Question 4 - Learning the Data **\n",
    "\n",
    "1. Choose one of the graphs above and state the maximum depth for the model.\n",
    "2. What happens to the score of the training curve as more training points are added? What about the testing curve?\n",
    "3. Would having more training points benefit the model?"
   ]
  },
  {
   "cell_type": "markdown",
   "metadata": {},
   "source": [
    "** Answer 4: **\n",
    "\n",
    "1. For the graph at the upper right, the maximum depth for the model is 3.\n",
    "2. When more training points are added, the score of the training curve slightly decreased while the score of the testing curve increased and then remained stready.\n",
    "3. Before the size of training set reaches a certain level, having more training points would benefit the model's performance for the testing set. However, the increment of model performance when adding training points decreases. From the graphs above, we can see that at first the model performances are improved significantly when new training points are added, but the learning curves for training sets flattened after the number of training points reached certain levels."
   ]
  },
  {
   "cell_type": "markdown",
   "metadata": {
    "collapsed": true
   },
   "source": [
    "## Complexity Curves ##\n",
    "\n",
    "The following code cell produces a graph for a decision tree model that has been trained and validated on the training data using different maximum depths. The graph produces two complexity curves — one for training and one for validation. Similar to the learning curves, the shaded regions of both the complexity curves denote the uncertainty in those curves, and the model is scored on both the training and validation sets using the performance_metric function.\n",
    "\n",
    "Run the code cell below and use this graph to answer the following two questions Q5 and Q6."
   ]
  },
  {
   "cell_type": "code",
   "execution_count": 14,
   "metadata": {},
   "outputs": [
    {
     "data": {
      "image/png": "[encoded data removed]",
      "text/plain": [
       "<matplotlib.figure.Figure at 0x15769655b70>"
      ]
     },
     "metadata": {},
     "output_type": "display_data"
    }
   ],
   "source": [
    "ModelComplexity(X_train, y_train)"
   ]
  },
  {
   "cell_type": "markdown",
   "metadata": {},
   "source": [
    "** Question 5 - Bias-Variance Tradeoff **\n",
    "\n",
    "1. When the model is trained with a maximum depth of 1, does the model suffer from high bias or from high variance?\n",
    "2. How about when the model is trained with a maximum depth of 10? What visual cues in the graph justify your conclusions?"
   ]
  },
  {
   "cell_type": "markdown",
   "metadata": {
    "collapsed": true
   },
   "source": [
    "** Answer 5: **\n",
    "\n",
    "1. When the model is trained with a max depth of 1, it suffers from high bias. It misses the relevant relations between features and target outputs. It is illustrated by a low performance score.\n",
    "2. When the model is trained with a max depth of 10, it suffers from high variance. It overfits the training set and cannot be generalized to testing set. It is shown by Training Score significantly higher than Validation Score."
   ]
  },
  {
   "cell_type": "markdown",
   "metadata": {},
   "source": [
    "** Question 6 - Best-Guess Optimal Model **\n",
    "\n",
    "1. Which maximum depth do you think results in a model that best generalizes to unseen data?\n",
    "2. What intuition lead you to this answer?"
   ]
  },
  {
   "cell_type": "markdown",
   "metadata": {},
   "source": [
    "** Answer 6: **\n",
    "\n",
    "1. A maximum depth of 4 would be the best for generalizing to unseen data.\n",
    "2. The reason is that the Training Score and Testing Score has been increasing from 1 to 4, and the Validation Score starts to decrease after the depth exceeds 5."
   ]
  },
  {
   "cell_type": "markdown",
   "metadata": {},
   "source": [
    "# Evaluating Model Performance #"
   ]
  },
  {
   "cell_type": "markdown",
   "metadata": {},
   "source": [
    "** Question 7 - Grid Search **\n",
    "\n",
    "1. What is the grid search technique?\n",
    "2. How it can be applied to optimize a learning algorithm?"
   ]
  },
  {
   "cell_type": "markdown",
   "metadata": {},
   "source": [
    "** Anwer 7: **\n",
    "\n",
    "1. Grid search is fixing all the other parameters and change a specific parameter, cross-validate the model, get the performance metrics, then change to another parameter and fix the rest of parameters, do it over and over again until got the results for all the combinations. Eventually get the optimal performance and the corresponding combination of parameter values.\n",
    "2. Take the Decision Tree Regressor in this Boston Housing Price analysis as an example. 'max_depth' and 'max_features' are two hyperparameters that can determine the nature of the tree. We can explore different pairs of values for these two parameters using grid search, then take the pair that generates the best performance and modify our algorithm according to these values. "
   ]
  },
  {
   "cell_type": "markdown",
   "metadata": {
    "collapsed": true
   },
   "source": [
    "** Question 8 - Cross-Validation **\n",
    "1. What is the k-fold cross-validation training technique?\n",
    "2. What benefit does this technique provide for grid search when optimizing a model?"
   ]
  },
  {
   "cell_type": "markdown",
   "metadata": {},
   "source": [
    "** Answer 8: **\n",
    "\n",
    "1. K-fold cross-validation is a technique in cross-validation where the original sample is randomly partitioned into k equal sized subsamples, then use 1 of the k samples as a validation set for testing the trainig result, the rest k-1 samples as training set. Then iterate through all the k folds of datasets and take each of them as validation set and the rest as training set. Finally the training result would be a combination of k times of training.\n",
    "2. The benefit is that the result of grid search would be more robust and avoid overfitting. When we do grid search there may be chances that certain combinations of parameters happen to perform well. If we conduct the cross-validation on top of grid search, the outcome would be more stable and prevent the random effects."
   ]
  },
  {
   "cell_type": "markdown",
   "metadata": {},
   "source": [
    "## Fitting a Model ##\n",
    "\n",
    "Your final implementation requires that you bring everything together and train a model using the decision tree algorithm.\n",
    "\n",
    "For the fit_model function in the code cell below, you will need to implement the following:\n",
    "* Use DecisionTreeRegressor from sklearn.tree to create a decision tree regressor object.\n",
    "    * Assign this object to the 'regressor' variable.\n",
    "* Create a dictionary for 'max_depth' with the values from 1 to 10, and assign this to the 'params' variable.\n",
    "* Use make_scorer from sklearn.metrics to create a scoring function object.\n",
    "    * Pass the performance_metric function as a parameter to the object.\n",
    "    * Assign this scoring function to the 'scoring_fnc' variable.\n",
    "* Use GridSearchCV from sklearn.grid_search to create a grid search object.\n",
    "    * Pass the variables 'regressor', 'params', 'scoring_fnc', and 'cv_sets' as parameters to the object.\n",
    "    * Assign the GridSearchCV object to the 'grid' variable."
   ]
  },
  {
   "cell_type": "code",
   "execution_count": 17,
   "metadata": {
    "collapsed": true
   },
   "outputs": [],
   "source": [
    "# TODO: Import 'make_scorer', 'DecisionTreeRegressor', and 'GridSearchCV'\n",
    "from sklearn.metrics import make_scorer\n",
    "from sklearn.model_selection import GridSearchCV\n",
    "\n",
    "def fit_model(X, y):\n",
    "    \"\"\" Performs grid search over the 'max_depth' parameter for a \n",
    "        decision tree regressor trained on the input data [X, y]. \"\"\"\n",
    "    \n",
    "    # Create cross-validation sets from the training data\n",
    "    cv_sets = ShuffleSplit(X.shape[0], n_iter=10, test_size=0.2, random_state=0)\n",
    "    \n",
    "    # TODO: Create a decision tree regressor object\n",
    "    regressor = DecisionTreeRegressor()\n",
    "    \n",
    "    # TODO: Create a dictionary for the parameter 'max_depth' with a range from 1 to 10\n",
    "    params = {'max_depth': range(1,11)}\n",
    "    \n",
    "    # TODO: Transform 'performance_metric' into a scoring function using 'make_scorer'\n",
    "    scoring_fnc = make_scorer(performance_metric)\n",
    "    \n",
    "    # TODO: Create the grid search cv object\n",
    "    grid = GridSearchCV(estimator=regressor, param_grid=params, scoring=scoring_fnc)\n",
    "    \n",
    "    # Fit the grid search object to the data to compute the optimal model\n",
    "    grid = grid.fit(X, y)\n",
    "    \n",
    "    # Return the optimal model after fitting the data\n",
    "    return grid.best_estimator_"
   ]
  },
  {
   "cell_type": "markdown",
   "metadata": {},
   "source": [
    "## Making Predictions ##\n",
    "\n",
    "Gain information about data where the value of the target variable is unknown — such as data the model was not trained on."
   ]
  },
  {
   "cell_type": "markdown",
   "metadata": {},
   "source": [
    "** Question 9 - Optimal Model **\n",
    "\n",
    "1. What maximum depth does the optimal model have? \n",
    "2. How does this result compare to your guess in Question 6?"
   ]
  },
  {
   "cell_type": "code",
   "execution_count": 18,
   "metadata": {},
   "outputs": [
    {
     "name": "stdout",
     "output_type": "stream",
     "text": [
      "Parameter 'max_depth' is 4 for the optimal model\n"
     ]
    }
   ],
   "source": [
    "# Fit the training data to the model using grid search \n",
    "reg = fit_model(X_train, y_train)\n",
    "\n",
    "# Produce the value fro 'max_depth'\n",
    "print(\"Parameter 'max_depth' is {} for the optimal model\".format(reg.get_params()['max_depth']))"
   ]
  },
  {
   "cell_type": "markdown",
   "metadata": {},
   "source": [
    "** Answer 9: **\n",
    "\n",
    "1. The maximum depth from the GridSearchCV() method is 4. \n",
    "2. This result is consistent with the result from **Question 6**."
   ]
  },
  {
   "cell_type": "markdown",
   "metadata": {},
   "source": [
    "** Question 10 - Predicting Selling Prices **\n",
    "\n",
    "Imagine that you were a real estate agent in the Boston area looking to use this model to help price homes owned by your clients that they wish to sell. You have collected the following information from three of your clients:\n",
    "\n",
    "|Feature\t|Client 1\t |Client 2\t |Client 3   |\n",
    "|:----------|:-----------|:----------|:----------|\n",
    "|Total number of rooms in home    |5   |4   |8   |\n",
    "|Neighborhood poverty level (as %)|17% |32% |3%  |\n",
    "|Student-teacher ratio of nearby schools|15-to-1|22-to-1|12-to-1|\n",
    "\n",
    "1. What price would you recommend each client sell his/her home at?\n",
    "2. Do these prices seem reasonable given the values for the respective features?"
   ]
  },
  {
   "cell_type": "code",
   "execution_count": 20,
   "metadata": {},
   "outputs": [
    {
     "name": "stdout",
     "output_type": "stream",
     "text": [
      "Predicted selling price for clients' homes are as follows:\n",
      "Client 1: $391,183.33\n",
      "Client 2: $189,123.53\n",
      "Client 3: $942,666.67\n"
     ]
    }
   ],
   "source": [
    "# Produce a matrix for client data\n",
    "client_data = [[5, 17, 15],    # Client 1\n",
    "               [4, 32, 22],    # Client 2\n",
    "               [8, 3, 12]]     # Client 3\n",
    "\n",
    "# Show predictions \n",
    "print(\"Predicted selling price for clients' homes are as follows:\")\n",
    "for i, price in enumerate(reg.predict(client_data)):\n",
    "    print(\"Client {}: ${:,.2f}\".format(i+1, price))"
   ]
  },
  {
   "cell_type": "markdown",
   "metadata": {},
   "source": [
    "** Answer 10: **\n",
    "\n",
    "1. Client 1's recommended selling price is \\$391,183.33. Client 2's recommended selling price is \\$189,123.53. Client 3's recommended selling price is \\$942,666.67. \n",
    "2. The prices seem quite reasonable. Client 2's house has the lowest estimated value among the three, for the lower number of rooms in the apartment, high poverty level, and high student-to-teacher ratio in the surrounding neighborhood. Client 3's house has the highest value among the three, for having higher number of rooms, low poverty level, and low student-teacher ratio in the neighborhood. Client 3's house price lies in the middle, which also makes sense for it has the values of 3 variables lying between Client 2's and Client 3's houses."
   ]
  },
  {
   "cell_type": "markdown",
   "metadata": {},
   "source": [
    "## Sensitivity ##\n",
    "\n",
    "Run the code cell below to run the fit_model function ten times with different training and testing sets to see how the prediction for a specific client changes with respect to the data it's trained on."
   ]
  },
  {
   "cell_type": "code",
   "execution_count": 21,
   "metadata": {},
   "outputs": [
    {
     "name": "stdout",
     "output_type": "stream",
     "text": [
      "Trial 1: $411,000.00\n",
      "Trial 2: $411,417.39\n",
      "Trial 3: $415,800.00\n",
      "Trial 4: $428,316.00\n",
      "Trial 5: $413,334.78\n",
      "Trial 6: $411,931.58\n",
      "Trial 7: $399,663.16\n",
      "Trial 8: $407,232.00\n",
      "Trial 9: $402,531.82\n",
      "Trial 10: $413,700.00\n",
      "\n",
      "Range in prices: $28,652.84\n"
     ]
    }
   ],
   "source": [
    "PredictTrials(features, prices, fit_model, client_data)"
   ]
  },
  {
   "cell_type": "markdown",
   "metadata": {},
   "source": [
    "** Question 11 - Applicability **\n",
    "\n",
    "In a few sentences, discuss whether the constructed model should or should not be used in a real-world setting.\n",
    "\n",
    "Some questions to answering:\n",
    "- How relevant today is data that was collected from 1978? How important is inflation?\n",
    "- Are the features present in the data sufficient to describe a home? Do you think factors like quality of apppliances in the home, square feet of the plot area, presence of pool or not etc should factor in?\n",
    "- Is the model robust enough to make consistent predictions?\n",
    "- Would data collected in an urban city like Boston be applicable in a rural city?\n",
    "- Is it fair to judge the price of an individual home based on the characteristics of the entire neighborhood?"
   ]
  },
  {
   "cell_type": "markdown",
   "metadata": {},
   "source": [
    "** Answer 11: **\n",
    "\n",
    "The type of model, which is Decision Tree Regressor, can be applied to making housing price predictions in a real-world setting. However, it needs to be tuned to have higher accuracy and needs to be fed in more recent data.\n",
    "- Today's situation may be quite different from the 1978 situation. For example, consumer's preference in education may have increased while the requirement for rooms may have decrease due to the decreasing birth rate. That means there are fewer kids in each family in 2010s compared to 1970s. (source: NCHS) Although the data can be scaled from 1978's price level to current price level using inflation rate, the inflation rate itself would possibly influence the model performance since it may influence the relative importance of variables \n",
    "- The 3 features present in the dataset can produce satisfactory results, but only using these 3 is not enough for commercial use, because of the sensitivity of the model. Referring to PriceTrials() result, the price predictions for a specific client has a range of \\$28,652.84, which is about 6\\% of the price of the apartment. This amount of price difference could cost a selling opportunity. Therefore, other factors should also be taken into account. For example, the higher quality of appliances translates to higher life quality, which further increase the price of the apartment.\n",
    "- The model is robust enough to make consistent predictions.\n",
    "- The data collected in an urban city may not apply to a rural city because the preference of urban and rural residents may be different. \n",
    "- It is not fair to judge the price of an individual home only based on the characteristic of the entire neighborhood, although the conditions of the neighborhood largely influence the housing price of a unit. We should definitely take into account the unit's own characteristics, for example, furnished or not, view of the city, is it a haunted house (or on the contrary, a house of a celebrity) etc."
   ]
  },
  {
   "cell_type": "code",
   "execution_count": null,
   "metadata": {
    "collapsed": true
   },
   "outputs": [],
   "source": []
  }
 ],
 "metadata": {
  "kernelspec": {
   "display_name": "Python 3",
   "language": "python",
   "name": "python3"
  },
  "language_info": {
   "codemirror_mode": {
    "name": "ipython",
    "version": 3
   },
   "file_extension": ".py",
   "mimetype": "text/x-python",
   "name": "python",
   "nbconvert_exporter": "python",
   "pygments_lexer": "ipython3",
   "version": "3.5.2"
  }
 },
 "nbformat": 4,
 "nbformat_minor": 2
}
